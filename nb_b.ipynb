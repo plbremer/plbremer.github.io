{
 "cells": [
  {
   "cell_type": "markdown",
   "id": "66ac6dba",
   "metadata": {},
   "source": [
    "##  this is some markdown"
   ]
  },
  {
   "cell_type": "code",
   "execution_count": 1,
   "id": "1e142961",
   "metadata": {},
   "outputs": [
    {
     "name": "stdout",
     "output_type": "stream",
     "text": [
      "asdf\n"
     ]
    }
   ],
   "source": [
    "print('asdf')"
   ]
  },
  {
   "cell_type": "markdown",
   "id": "e971933d",
   "metadata": {},
   "source": [
    "### more markdown"
   ]
  },
  {
   "cell_type": "code",
   "execution_count": 2,
   "id": "3b889071",
   "metadata": {},
   "outputs": [
    {
     "name": "stdout",
     "output_type": "stream",
     "text": [
      "8\n"
     ]
    }
   ],
   "source": [
    "a=5\n",
    "b=3\n",
    "c=a+b\n",
    "print(c)"
   ]
  },
  {
   "cell_type": "code",
   "execution_count": null,
   "id": "15f76a69",
   "metadata": {},
   "outputs": [],
   "source": []
  }
 ],
 "metadata": {
  "kernelspec": {
   "display_name": "Python 3 (ipykernel)",
   "language": "python",
   "name": "python3"
  },
  "language_info": {
   "codemirror_mode": {
    "name": "ipython",
    "version": 3
   },
   "file_extension": ".py",
   "mimetype": "text/x-python",
   "name": "python",
   "nbconvert_exporter": "python",
   "pygments_lexer": "ipython3",
   "version": "3.8.12"
  }
 },
 "nbformat": 4,
 "nbformat_minor": 5
}
