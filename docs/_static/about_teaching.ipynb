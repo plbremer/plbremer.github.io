{
 "cells": [
  {
   "cell_type": "markdown",
   "id": "1b26d557",
   "metadata": {},
   "source": [
    "# About"
   ]
  },
  {
   "cell_type": "markdown",
   "id": "9aaa1bb4",
   "metadata": {},
   "source": [
    "The below lectures were written and are presetented annually as part of a [Python Intensive Training](https://ucdavisdatalab.github.io/python_intensive_training/chapters/index.html) for incoming graduate students in conjunction with the [UC Davis Datalab](https://datalab.ucdavis.edu/)"
   ]
  }
 ],
 "metadata": {
  "kernelspec": {
   "display_name": "Python 3 (ipykernel)",
   "language": "python",
   "name": "python3"
  },
  "language_info": {
   "codemirror_mode": {
    "name": "ipython",
    "version": 3
   },
   "file_extension": ".py",
   "mimetype": "text/x-python",
   "name": "python",
   "nbconvert_exporter": "python",
   "pygments_lexer": "ipython3",
   "version": "3.8.12"
  }
 },
 "nbformat": 4,
 "nbformat_minor": 5
}
