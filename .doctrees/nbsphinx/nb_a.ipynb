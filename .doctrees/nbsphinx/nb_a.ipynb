{
 "cells": [
  {
   "cell_type": "markdown",
   "id": "f3c92a0b",
   "metadata": {},
   "source": [
    "##  this is some markdown"
   ]
  },
  {
   "cell_type": "code",
   "execution_count": 1,
   "id": "8667f60a",
   "metadata": {},
   "outputs": [
    {
     "name": "stdout",
     "output_type": "stream",
     "text": [
      "asdf\n"
     ]
    }
   ],
   "source": [
    "print('asdf')"
   ]
  },
  {
   "cell_type": "markdown",
   "id": "20e7edf2",
   "metadata": {},
   "source": [
    "### more markdown"
   ]
  },
  {
   "cell_type": "code",
   "execution_count": null,
   "id": "664ce18f",
   "metadata": {},
   "outputs": [],
   "source": []
  }
 ],
 "metadata": {
  "kernelspec": {
   "display_name": "Python 3 (ipykernel)",
   "language": "python",
   "name": "python3"
  },
  "language_info": {
   "codemirror_mode": {
    "name": "ipython",
    "version": 3
   },
   "file_extension": ".py",
   "mimetype": "text/x-python",
   "name": "python",
   "nbconvert_exporter": "python",
   "pygments_lexer": "ipython3",
   "version": "3.8.12"
  }
 },
 "nbformat": 4,
 "nbformat_minor": 5
}
