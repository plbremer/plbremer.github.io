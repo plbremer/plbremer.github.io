{
 "cells": [
  {
   "cell_type": "markdown",
   "id": "e6894656",
   "metadata": {},
   "source": [
    "# Current Work"
   ]
  },
  {
   "cell_type": "markdown",
   "id": "2118d020",
   "metadata": {},
   "source": [
    "## Overview"
   ]
  },
  {
   "cell_type": "markdown",
   "id": "c7c7b0b3",
   "metadata": {},
   "source": [
    "Roughly, my current work involves two main aspects. \n",
    "\n",
    "The first involves defining and implementing an ontology to model (meta)data and their production at Altos. We are utilizing the excellent open-source tool [LinkML](https://linkml.io/) to accomplish this. \n",
    "\n",
    "The second, and related goal, involves designing/implementing tools/infrastructure to support the transport, storage, access, and visualization of these (meta)data modeled via LinkML. \n",
    "\n",
    "If I get the chance to post more, then I will!"
   ]
  }
 ],
 "metadata": {
  "kernelspec": {
   "display_name": "Python 3",
   "language": "python",
   "name": "python3"
  },
  "language_info": {
   "codemirror_mode": {
    "name": "ipython",
    "version": 3
   },
   "file_extension": ".py",
   "mimetype": "text/x-python",
   "name": "python",
   "nbconvert_exporter": "python",
   "pygments_lexer": "ipython3",
   "version": "3.8.8"
  }
 },
 "nbformat": 4,
 "nbformat_minor": 5
}
